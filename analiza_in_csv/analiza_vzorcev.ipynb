{
 "cells": [
  {
   "cell_type": "markdown",
   "id": "c1116e7b",
   "metadata": {},
   "source": [
    "# Analiza vzorcev za kvačkanje\n",
    "V tem dokumentu se nahaja analiza 3000 najbolj priljubljenih vzorcev kvačkanja s spletne strani [Lovecrafts](https://www.lovecrafts.com/en-gb/). Podatki o vzorcih so zbrani v datoteki vzorci.csv."
   ]
  },
  {
   "cell_type": "markdown",
   "id": "757aa835",
   "metadata": {},
   "source": [
    "## Poglavja\n",
    "- [Priprava](#priprava)"
   ]
  },
  {
   "cell_type": "markdown",
   "id": "f39ea7fa",
   "metadata": {},
   "source": [
    "## Priprava"
   ]
  },
  {
   "cell_type": "markdown",
   "id": "37e10152",
   "metadata": {},
   "source": [
    "Za analizo bom uporabljala knjižnico pandas, zato jo najprej uvozim v datoteko. Shranim tudi podatke iz datoteke vzorci.csv v spremenljivko imenovano vzorci."
   ]
  },
  {
   "cell_type": "code",
   "execution_count": 7,
   "id": "bafc096e",
   "metadata": {},
   "outputs": [],
   "source": [
    "import pandas as pd\n",
    "\n",
    "vzorci = pd.read_csv('vzorci.csv', sep=',')"
   ]
  }
 ],
 "metadata": {
  "kernelspec": {
   "display_name": "Python 3 (ipykernel)",
   "language": "python",
   "name": "python3"
  },
  "language_info": {
   "codemirror_mode": {
    "name": "ipython",
    "version": 3
   },
   "file_extension": ".py",
   "mimetype": "text/x-python",
   "name": "python",
   "nbconvert_exporter": "python",
   "pygments_lexer": "ipython3",
   "version": "3.13.2"
  }
 },
 "nbformat": 4,
 "nbformat_minor": 5
}
